{
  "metadata": {
    "kernelspec": {
      "name": "python",
      "display_name": "Python (Pyodide)",
      "language": "python"
    },
    "language_info": {
      "name": ""
    }
  },
  "nbformat_minor": 5,
  "nbformat": 4,
  "cells": [
    {
      "id": "4687dd8c-fc08-4a85-b6de-d6d3bfeb9173",
      "cell_type": "markdown",
      "source": "## Arithmetic Expression Examples\nThe following code cells demonstrate basic arithmetic operations, such as multiplication and addition, using Python.",
      "metadata": {}
    }
  ]
}