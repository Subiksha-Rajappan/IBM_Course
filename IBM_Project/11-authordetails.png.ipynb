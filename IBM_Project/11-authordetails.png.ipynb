{
  "metadata": {
    "kernelspec": {
      "name": "python",
      "display_name": "Python (Pyodide)",
      "language": "python"
    },
    "language_info": {
      "name": ""
    }
  },
  "nbformat_minor": 5,
  "nbformat": 4,
  "cells": [
    {
      "id": "763e16c2-2d7b-493b-b47c-5f7914f3b9f8",
      "cell_type": "code",
      "source": "## Author\n[Subiksha]",
      "metadata": {
        "trusted": true
      },
      "outputs": [],
      "execution_count": null
    }
  ]
}