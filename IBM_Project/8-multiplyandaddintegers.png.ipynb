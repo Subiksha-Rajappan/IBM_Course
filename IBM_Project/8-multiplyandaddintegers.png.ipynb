{
  "metadata": {
    "kernelspec": {
      "name": "python",
      "display_name": "Python (Pyodide)",
      "language": "python"
    },
    "language_info": {
      "codemirror_mode": {
        "name": "python",
        "version": 3
      },
      "file_extension": ".py",
      "mimetype": "text/x-python",
      "name": "python",
      "nbconvert_exporter": "python",
      "pygments_lexer": "ipython3",
      "version": "3.8"
    }
  },
  "nbformat_minor": 5,
  "nbformat": 4,
  "cells": [
    {
      "id": "e6fc8585-2924-4a5b-947c-caa98252e812",
      "cell_type": "code",
      "source": "a = 5\nb = 3\nmultiplication = a * b\naddition = a + b\n\nprint(multiplication)\nprint(addition)\n",
      "metadata": {
        "trusted": true
      },
      "outputs": [
        {
          "name": "stdout",
          "output_type": "stream",
          "text": "15\n8\n"
        }
      ],
      "execution_count": 1
    }
  ]
}