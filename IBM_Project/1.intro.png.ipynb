{
  "metadata": {
    "kernelspec": {
      "name": "python",
      "display_name": "Python (Pyodide)",
      "language": "python"
    },
    "language_info": {
      "codemirror_mode": {
        "name": "python",
        "version": 3
      },
      "file_extension": ".py",
      "mimetype": "text/x-python",
      "name": "python",
      "nbconvert_exporter": "python",
      "pygments_lexer": "ipython3",
      "version": "3.8"
    }
  },
  "nbformat_minor": 5,
  "nbformat": 4,
  "cells": [
    {
      "id": "8e744548-c142-42df-acc0-609dc3641adf",
      "cell_type": "markdown",
      "source": "## Introduction\nThis notebook provides an overview of the data science tools and ecosystem covered in this course. It includes examples of data science languages, libraries, tools, and basic arithmetic operations, as well as a demonstration of converting minutes to hours. The notebook is designed to showcase key concepts and skills learned throughout the course.",
      "metadata": {}
    }
  ]
}