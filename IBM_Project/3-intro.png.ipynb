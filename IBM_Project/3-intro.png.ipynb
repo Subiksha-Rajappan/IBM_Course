{
  "metadata": {
    "kernelspec": {
      "name": "python",
      "display_name": "Python (Pyodide)",
      "language": "python"
    },
    "language_info": {
      "name": ""
    }
  },
  "nbformat_minor": 5,
  "nbformat": 4,
  "cells": [
    {
      "id": "bfbe46b5-7a9e-4ded-9f0b-5faadebcfb0d",
      "cell_type": "code",
      "source": "## Introduction\nThis notebook provides an overview of the data science tools and ecosystem covered in this course. It includes examples of data science languages, libraries, tools, and basic arithmetic operations, as well as a demonstration of converting minutes to hours. The notebook is designed to showcase key concepts and skills learned throughout the course.",
      "metadata": {
        "trusted": true
      },
      "outputs": [],
      "execution_count": null
    }
  ]
}