{
  "metadata": {
    "kernelspec": {
      "name": "python",
      "display_name": "Python (Pyodide)",
      "language": "python"
    },
    "language_info": {
      "codemirror_mode": {
        "name": "python",
        "version": 3
      },
      "file_extension": ".py",
      "mimetype": "text/x-python",
      "name": "python",
      "nbconvert_exporter": "python",
      "pygments_lexer": "ipython3",
      "version": "3.8"
    }
  },
  "nbformat_minor": 5,
  "nbformat": 4,
  "cells": [
    {
      "id": "3a6538fc-1aa9-466e-bc01-6d742b434600",
      "cell_type": "markdown",
      "source": "## Data Science Languages\nThe following are popular programming languages used in data science:\n- Python\n- R\n- SQL\n- Julia\n- Scala",
      "metadata": {}
    }
  ]
}