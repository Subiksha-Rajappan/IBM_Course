{
  "metadata": {
    "kernelspec": {
      "name": "python",
      "display_name": "Python (Pyodide)",
      "language": "python"
    },
    "language_info": {
      "codemirror_mode": {
        "name": "python",
        "version": 3
      },
      "file_extension": ".py",
      "mimetype": "text/x-python",
      "name": "python",
      "nbconvert_exporter": "python",
      "pygments_lexer": "ipython3",
      "version": "3.8"
    }
  },
  "nbformat_minor": 5,
  "nbformat": 4,
  "cells": [
    {
      "id": "0a4808d2-6e52-4325-badd-bd8a7a3dec3d",
      "cell_type": "code",
      "source": "# Data Science Tools and Ecosystem\n",
      "metadata": {
        "trusted": true
      },
      "outputs": [],
      "execution_count": null
    },
    {
      "id": "8e73a6af-58ff-44e8-b544-0e0d2a3ad797",
      "cell_type": "markdown",
      "source": "",
      "metadata": {}
    }
  ]
}