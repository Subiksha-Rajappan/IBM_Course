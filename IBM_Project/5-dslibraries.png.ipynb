{
  "metadata": {
    "kernelspec": {
      "name": "python",
      "display_name": "Python (Pyodide)",
      "language": "python"
    },
    "language_info": {
      "name": ""
    }
  },
  "nbformat_minor": 5,
  "nbformat": 4,
  "cells": [
    {
      "id": "7ab283de-8cdd-4af5-9975-463ca45aa096",
      "cell_type": "code",
      "source": "",
      "metadata": {
        "trusted": true
      },
      "outputs": [],
      "execution_count": null
    },
    {
      "id": "2a25f5f2-b5e9-48a6-8c05-e1b3f6b4afdf",
      "cell_type": "markdown",
      "source": "## Data Science Libraries\nBelow is a list of commonly used libraries in data science:\n- Pandas (Python)\n- NumPy (Python)\n- Matplotlib (Python)\n- Scikit-learn (Python)\n- ggplot2 ( transversing R)\n- dplyr (R)",
      "metadata": {}
    }
  ]
}