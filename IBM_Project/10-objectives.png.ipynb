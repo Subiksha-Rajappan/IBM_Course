{
  "metadata": {
    "kernelspec": {
      "name": "python",
      "display_name": "Python (Pyodide)",
      "language": "python"
    },
    "language_info": {
      "codemirror_mode": {
        "name": "python",
        "version": 3
      },
      "file_extension": ".py",
      "mimetype": "text/x-python",
      "name": "python",
      "nbconvert_exporter": "python",
      "pygments_lexer": "ipython3",
      "version": "3.8"
    }
  },
  "nbformat_minor": 5,
  "nbformat": 4,
  "cells": [
    {
      "id": "8401371e-5c71-4be4-9498-155d4900c5fe",
      "cell_type": "markdown",
      "source": "## Objectives\nThe objectives of this notebook are:\n- To summarize key data science tools and languages.\n- To demonstrate the use of markdown and code cells in Jupyterlite Notebook.\n- To perform basic arithmetic operations and conversions.\n- To share the notebook publicly via GitHub.",
      "metadata": {}
    }
  ]
}