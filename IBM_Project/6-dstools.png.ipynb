{
  "metadata": {
    "kernelspec": {
      "name": "python",
      "display_name": "Python (Pyodide)",
      "language": "python"
    },
    "language_info": {
      "name": ""
    }
  },
  "nbformat_minor": 5,
  "nbformat": 4,
  "cells": [
    {
      "id": "c78232e6-c6cc-4c38-b269-cfd51595bb9a",
      "cell_type": "markdown",
      "source": "## Data Science Tools\n| Tool             | Description                              |\n|------------------|------------------------------------------|\n| Jupyter Notebook | Interactive computing environment        |\n| RStudio          | IDE for R programming                    |\n| Apache Spark     | Big data processing framework            |\n| Tableau          | Data visualization tool                  |\n| TensorFlow       | Machine learning framework               |",
      "metadata": {}
    }
  ]
}